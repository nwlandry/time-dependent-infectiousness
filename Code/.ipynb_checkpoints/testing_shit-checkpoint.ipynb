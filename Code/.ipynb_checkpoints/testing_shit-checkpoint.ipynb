{
 "cells": [
  {
   "cell_type": "code",
   "execution_count": 6,
   "metadata": {},
   "outputs": [],
   "source": [
    "import numpy as np\n",
    "import seaborn as sns\n",
    "import pandas as pd\n",
    "import networkx as nx\n",
    "import matplotlib.pyplot as plt\n",
    "import math"
   ]
  },
  {
   "cell_type": "code",
   "execution_count": 7,
   "metadata": {},
   "outputs": [
    {
     "name": "stdout",
     "output_type": "stream",
     "text": [
      "HI, I AM CREATED BY A FUNCTION PASSED AS AN ARGUMENT.\n",
      "hi, i am created by a function passed as an argument.\n"
     ]
    }
   ],
   "source": [
    "def shout(text): \n",
    "    return text.upper() \n",
    "  \n",
    "def whisper(text): \n",
    "    return text.lower() \n",
    "  \n",
    "def greet(func): \n",
    "    # storing the function in a variable \n",
    "    greeting = func(\"Hi, I am created by a function passed as an argument.\") \n",
    "    print(greeting)\n",
    "    \n",
    "greet(shout) \n",
    "greet(whisper) "
   ]
  },
  {
   "cell_type": "code",
   "execution_count": 11,
   "metadata": {},
   "outputs": [
    {
     "name": "stdout",
     "output_type": "stream",
     "text": [
      "362880.0\n"
     ]
    }
   ],
   "source": [
    "def Gamma(x):\n",
    "    return math.gamma(x)\n",
    "\n",
    "def test(x, func):\n",
    "    print(func(x))\n",
    "    \n",
    "\n",
    "test(10, Gamma)"
   ]
  },
  {
   "cell_type": "code",
   "execution_count": null,
   "metadata": {},
   "outputs": [],
   "source": []
  }
 ],
 "metadata": {
  "kernelspec": {
   "display_name": "Python 3",
   "language": "python",
   "name": "python3"
  },
  "language_info": {
   "codemirror_mode": {
    "name": "ipython",
    "version": 3
   },
   "file_extension": ".py",
   "mimetype": "text/x-python",
   "name": "python",
   "nbconvert_exporter": "python",
   "pygments_lexer": "ipython3",
   "version": "3.7.9"
  }
 },
 "nbformat": 4,
 "nbformat_minor": 4
}
